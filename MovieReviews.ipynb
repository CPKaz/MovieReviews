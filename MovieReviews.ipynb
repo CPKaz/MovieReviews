{
  "nbformat": 4,
  "nbformat_minor": 0,
  "metadata": {
    "colab": {
      "name": "MovieReviews.ipynb",
      "version": "0.3.2",
      "provenance": [],
      "include_colab_link": true
    },
    "kernelspec": {
      "name": "python3",
      "display_name": "Python 3"
    }
  },
  "cells": [
    {
      "cell_type": "markdown",
      "metadata": {
        "id": "view-in-github",
        "colab_type": "text"
      },
      "source": [
        "<a href=\"https://colab.research.google.com/github/CPKaz/MovieReviews/blob/master/MovieReviews.ipynb\" target=\"_parent\"><img src=\"https://colab.research.google.com/assets/colab-badge.svg\" alt=\"Open In Colab\"/></a>"
      ]
    },
    {
      "cell_type": "code",
      "metadata": {
        "id": "YvYtCpkW7DI0",
        "colab_type": "code",
        "colab": {}
      },
      "source": [
        "!pip install tf_nightly"
      ],
      "execution_count": 0,
      "outputs": []
    },
    {
      "cell_type": "code",
      "metadata": {
        "id": "Mit7Vv2X7PEG",
        "colab_type": "code",
        "colab": {}
      },
      "source": [
        "from __future__ import absolute_import, division, print_function, unicode_literals\n",
        "\n",
        "import tensorflow as tf\n",
        "from tensorflow import keras\n",
        "\n",
        "import numpy as np"
      ],
      "execution_count": 0,
      "outputs": []
    },
    {
      "cell_type": "code",
      "metadata": {
        "id": "zXI_S_X3QGm7",
        "colab_type": "code",
        "colab": {}
      },
      "source": [
        "imdb = keras.datasets.imdb\n",
        "\n",
        "(train_data, train_labels), (test_data, test_labels) = imdb.load_data(num_words=10000)"
      ],
      "execution_count": 0,
      "outputs": []
    },
    {
      "cell_type": "code",
      "metadata": {
        "id": "pBPXMWeyFfgk",
        "colab_type": "code",
        "outputId": "f37f335e-b98d-4ea0-ae46-f5cee9183d57",
        "colab": {
          "base_uri": "https://localhost:8080/",
          "height": 35
        }
      },
      "source": [
        "print(imdb)"
      ],
      "execution_count": 0,
      "outputs": [
        {
          "output_type": "stream",
          "text": [
            "<module 'tensorflow._api.v1.keras.datasets.imdb' from '/usr/local/lib/python3.6/dist-packages/tensorflow/_api/v1/keras/datasets/imdb/__init__.py'>\n"
          ],
          "name": "stdout"
        }
      ]
    },
    {
      "cell_type": "code",
      "metadata": {
        "id": "9dMDpdW6Fn2d",
        "colab_type": "code",
        "colab": {}
      },
      "source": [
        ""
      ],
      "execution_count": 0,
      "outputs": []
    },
    {
      "cell_type": "code",
      "metadata": {
        "id": "Bb6LIdjAQPcD",
        "colab_type": "code",
        "outputId": "1a7c6a2d-a4d3-4c07-8a42-0771ba386f0e",
        "colab": {
          "base_uri": "https://localhost:8080/",
          "height": 52
        }
      },
      "source": [
        "word_index = imdb.get_word_index()\n",
        "word_index = {k:(v+3) for k,v in word_index.items()}\n",
        "word_index[\"<PAD>\"] = 0\n",
        "word_index[\"<START>\"] = 1\n",
        "word_index[\"<UNK>\"] = 2\n",
        "word_index[\"<UNUSED>\"] = 3\n",
        "\n",
        "reverse_word_index = dict([(value, key) for (key, value) in word_index.items()])\n",
        "\n",
        "def decode_review(text):\n",
        "    return ' '.join([reverse_word_index.get(i, '?') for i in text])"
      ],
      "execution_count": 0,
      "outputs": [
        {
          "output_type": "stream",
          "text": [
            "Downloading data from https://storage.googleapis.com/tensorflow/tf-keras-datasets/imdb_word_index.json\n",
            "1646592/1641221 [==============================] - 0s 0us/step\n"
          ],
          "name": "stdout"
        }
      ]
    },
    {
      "cell_type": "code",
      "metadata": {
        "id": "4CXs6yfGQXZF",
        "colab_type": "code",
        "outputId": "f75ac9a8-ee37-447c-c156-192d5eb41514",
        "colab": {
          "base_uri": "https://localhost:8080/",
          "height": 55
        }
      },
      "source": [
        "decode_review(train_data[0])"
      ],
      "execution_count": 0,
      "outputs": [
        {
          "output_type": "execute_result",
          "data": {
            "text/plain": [
              "\"<START> this film was just brilliant casting location scenery story direction everyone's really suited the part they played and you could just imagine being there robert <UNK> is an amazing actor and now the same being director <UNK> father came from the same scottish island as myself so i loved the fact there was a real connection with this film the witty remarks throughout the film were great it was just brilliant so much that i bought the film as soon as it was released for <UNK> and would recommend it to everyone to watch and the fly fishing was amazing really cried at the end it was so sad and you know what they say if you cry at a film it must have been good and this definitely was also <UNK> to the two little boy's that played the <UNK> of norman and paul they were just brilliant children are often left out of the <UNK> list i think because the stars that play them all grown up are such a big profile for the whole film but these children are amazing and should be praised for what they have done don't you think the whole story was so lovely because it was true and was someone's life after all that was shared with us all\""
            ]
          },
          "metadata": {
            "tags": []
          },
          "execution_count": 17
        }
      ]
    },
    {
      "cell_type": "code",
      "metadata": {
        "id": "kguWGQG_QZMG",
        "colab_type": "code",
        "colab": {}
      },
      "source": [
        "train_data = keras.preprocessing.sequence.pad_sequences(train_data,\n",
        "                                                        value=word_index[\"<PAD>\"],\n",
        "                                                        padding='post',\n",
        "                                                        maxlen=250)\n",
        "\n",
        "test_data = keras.preprocessing.sequence.pad_sequences(test_data,\n",
        "                                                       value=word_index[\"<PAD>\"],\n",
        "                                                       padding='post',\n",
        "                                                       maxlen=250)"
      ],
      "execution_count": 0,
      "outputs": []
    },
    {
      "cell_type": "code",
      "metadata": {
        "id": "hnIvhv4NQfXE",
        "colab_type": "code",
        "outputId": "b28494e5-83ca-40e2-c63c-8bbaf6af8caa",
        "colab": {
          "base_uri": "https://localhost:8080/",
          "height": 277
        }
      },
      "source": [
        "vocab_size = 10000\n",
        "model = keras.Sequential()\n",
        "model.add(keras.layers.Embedding(vocab_size, 16))\n",
        "model.add(keras.layers.GlobalAveragePooling1D())\n",
        "model.add(keras.layers.Dense(16, activation=tf.nn.relu))\n",
        "model.add(keras.layers.Dense(1, activation=tf.nn.sigmoid))\n",
        "model.summary()"
      ],
      "execution_count": 0,
      "outputs": [
        {
          "output_type": "stream",
          "text": [
            "_________________________________________________________________\n",
            "Layer (type)                 Output Shape              Param #   \n",
            "=================================================================\n",
            "embedding (Embedding)        (None, None, 16)          160000    \n",
            "_________________________________________________________________\n",
            "global_average_pooling1d (Gl (None, 16)                0         \n",
            "_________________________________________________________________\n",
            "dense (Dense)                (None, 16)                272       \n",
            "_________________________________________________________________\n",
            "dense_1 (Dense)              (None, 1)                 17        \n",
            "=================================================================\n",
            "Total params: 160,289\n",
            "Trainable params: 160,289\n",
            "Non-trainable params: 0\n",
            "_________________________________________________________________\n"
          ],
          "name": "stdout"
        }
      ]
    },
    {
      "cell_type": "code",
      "metadata": {
        "id": "EzdLYJKUQ93i",
        "colab_type": "code",
        "colab": {}
      },
      "source": [
        "model.compile(optimizer='adam',\n",
        "              loss='binary_crossentropy',\n",
        "              metrics=['acc'])"
      ],
      "execution_count": 0,
      "outputs": []
    },
    {
      "cell_type": "code",
      "metadata": {
        "id": "WBNVX2fXQ-zm",
        "colab_type": "code",
        "colab": {}
      },
      "source": [
        "x_val = train_data[:10000]\n",
        "partial_x_train = train_data[10000:]\n",
        "\n",
        "y_val = train_labels[:10000]\n",
        "partial_y_train = train_labels[10000:]"
      ],
      "execution_count": 0,
      "outputs": []
    },
    {
      "cell_type": "code",
      "metadata": {
        "id": "XIEV5VmBRE8e",
        "colab_type": "code",
        "outputId": "f1ceba03-3707-43d5-d648-1fe074dd651d",
        "colab": {
          "base_uri": "https://localhost:8080/",
          "height": 1493
        }
      },
      "source": [
        "history = model.fit(partial_x_train,\n",
        "                    partial_y_train,\n",
        "                    epochs=40,\n",
        "                    batch_size=512,\n",
        "                    validation_data=(x_val, y_val),\n",
        "                    verbose=1)"
      ],
      "execution_count": 0,
      "outputs": [
        {
          "output_type": "stream",
          "text": [
            "Train on 15000 samples, validate on 10000 samples\n",
            "WARNING:tensorflow:From /usr/local/lib/python3.6/dist-packages/tensorflow/python/ops/math_ops.py:3066: to_int32 (from tensorflow.python.ops.math_ops) is deprecated and will be removed in a future version.\n",
            "Instructions for updating:\n",
            "Use tf.cast instead.\n",
            "Epoch 1/40\n",
            "15000/15000 [==============================] - 1s 86us/sample - loss: 0.6924 - acc: 0.5564 - val_loss: 0.6909 - val_acc: 0.6288\n",
            "Epoch 2/40\n",
            "15000/15000 [==============================] - 1s 55us/sample - loss: 0.6876 - acc: 0.6900 - val_loss: 0.6834 - val_acc: 0.7361\n",
            "Epoch 3/40\n",
            "15000/15000 [==============================] - 1s 54us/sample - loss: 0.6753 - acc: 0.7471 - val_loss: 0.6673 - val_acc: 0.7435\n",
            "Epoch 4/40\n",
            "15000/15000 [==============================] - 1s 52us/sample - loss: 0.6520 - acc: 0.7603 - val_loss: 0.6394 - val_acc: 0.7478\n",
            "Epoch 5/40\n",
            "15000/15000 [==============================] - 1s 52us/sample - loss: 0.6159 - acc: 0.7861 - val_loss: 0.6017 - val_acc: 0.7826\n",
            "Epoch 6/40\n",
            "15000/15000 [==============================] - 1s 52us/sample - loss: 0.5704 - acc: 0.8095 - val_loss: 0.5582 - val_acc: 0.8035\n",
            "Epoch 7/40\n",
            "15000/15000 [==============================] - 1s 52us/sample - loss: 0.5204 - acc: 0.8273 - val_loss: 0.5118 - val_acc: 0.8175\n",
            "Epoch 8/40\n",
            "15000/15000 [==============================] - 1s 52us/sample - loss: 0.4714 - acc: 0.8457 - val_loss: 0.4702 - val_acc: 0.8299\n",
            "Epoch 9/40\n",
            "15000/15000 [==============================] - 1s 51us/sample - loss: 0.4269 - acc: 0.8604 - val_loss: 0.4338 - val_acc: 0.8432\n",
            "Epoch 10/40\n",
            "15000/15000 [==============================] - 1s 51us/sample - loss: 0.3885 - acc: 0.8733 - val_loss: 0.4046 - val_acc: 0.8496\n",
            "Epoch 11/40\n",
            "15000/15000 [==============================] - 1s 51us/sample - loss: 0.3566 - acc: 0.8819 - val_loss: 0.3810 - val_acc: 0.8564\n",
            "Epoch 12/40\n",
            "15000/15000 [==============================] - 1s 51us/sample - loss: 0.3300 - acc: 0.8883 - val_loss: 0.3629 - val_acc: 0.8602\n",
            "Epoch 13/40\n",
            "15000/15000 [==============================] - 1s 52us/sample - loss: 0.3082 - acc: 0.8959 - val_loss: 0.3474 - val_acc: 0.8650\n",
            "Epoch 14/40\n",
            "15000/15000 [==============================] - 1s 51us/sample - loss: 0.2887 - acc: 0.9009 - val_loss: 0.3359 - val_acc: 0.8693\n",
            "Epoch 15/40\n",
            "15000/15000 [==============================] - 1s 52us/sample - loss: 0.2723 - acc: 0.9048 - val_loss: 0.3268 - val_acc: 0.8723\n",
            "Epoch 16/40\n",
            "15000/15000 [==============================] - 1s 54us/sample - loss: 0.2576 - acc: 0.9096 - val_loss: 0.3191 - val_acc: 0.8728\n",
            "Epoch 17/40\n",
            "15000/15000 [==============================] - 1s 52us/sample - loss: 0.2439 - acc: 0.9153 - val_loss: 0.3126 - val_acc: 0.8747\n",
            "Epoch 18/40\n",
            "15000/15000 [==============================] - 1s 52us/sample - loss: 0.2318 - acc: 0.9193 - val_loss: 0.3075 - val_acc: 0.8760\n",
            "Epoch 19/40\n",
            "15000/15000 [==============================] - 1s 51us/sample - loss: 0.2207 - acc: 0.9229 - val_loss: 0.3029 - val_acc: 0.8776\n",
            "Epoch 20/40\n",
            "15000/15000 [==============================] - 1s 52us/sample - loss: 0.2108 - acc: 0.9259 - val_loss: 0.2999 - val_acc: 0.8786\n",
            "Epoch 21/40\n",
            "15000/15000 [==============================] - 1s 52us/sample - loss: 0.2006 - acc: 0.9305 - val_loss: 0.2975 - val_acc: 0.8793\n",
            "Epoch 22/40\n",
            "15000/15000 [==============================] - 1s 51us/sample - loss: 0.1923 - acc: 0.9352 - val_loss: 0.2955 - val_acc: 0.8807\n",
            "Epoch 23/40\n",
            "15000/15000 [==============================] - 1s 52us/sample - loss: 0.1836 - acc: 0.9397 - val_loss: 0.2950 - val_acc: 0.8793\n",
            "Epoch 24/40\n",
            "15000/15000 [==============================] - 1s 52us/sample - loss: 0.1762 - acc: 0.9425 - val_loss: 0.2937 - val_acc: 0.8825\n",
            "Epoch 25/40\n",
            "15000/15000 [==============================] - 1s 53us/sample - loss: 0.1686 - acc: 0.9463 - val_loss: 0.2929 - val_acc: 0.8812\n",
            "Epoch 26/40\n",
            "15000/15000 [==============================] - 1s 51us/sample - loss: 0.1618 - acc: 0.9491 - val_loss: 0.2937 - val_acc: 0.8790\n",
            "Epoch 27/40\n",
            "15000/15000 [==============================] - 1s 52us/sample - loss: 0.1553 - acc: 0.9519 - val_loss: 0.2933 - val_acc: 0.8814\n",
            "Epoch 28/40\n",
            "15000/15000 [==============================] - 1s 52us/sample - loss: 0.1492 - acc: 0.9546 - val_loss: 0.2944 - val_acc: 0.8818\n",
            "Epoch 29/40\n",
            "15000/15000 [==============================] - 1s 54us/sample - loss: 0.1437 - acc: 0.9563 - val_loss: 0.2965 - val_acc: 0.8805\n",
            "Epoch 30/40\n",
            "15000/15000 [==============================] - 1s 52us/sample - loss: 0.1379 - acc: 0.9585 - val_loss: 0.2961 - val_acc: 0.8820\n",
            "Epoch 31/40\n",
            "15000/15000 [==============================] - 1s 52us/sample - loss: 0.1321 - acc: 0.9605 - val_loss: 0.2976 - val_acc: 0.8838\n",
            "Epoch 32/40\n",
            "15000/15000 [==============================] - 1s 54us/sample - loss: 0.1270 - acc: 0.9621 - val_loss: 0.2996 - val_acc: 0.8830\n",
            "Epoch 33/40\n",
            "15000/15000 [==============================] - 1s 53us/sample - loss: 0.1221 - acc: 0.9647 - val_loss: 0.3023 - val_acc: 0.8812\n",
            "Epoch 34/40\n",
            "15000/15000 [==============================] - 1s 53us/sample - loss: 0.1176 - acc: 0.9654 - val_loss: 0.3045 - val_acc: 0.8825\n",
            "Epoch 35/40\n",
            "15000/15000 [==============================] - 1s 52us/sample - loss: 0.1132 - acc: 0.9675 - val_loss: 0.3077 - val_acc: 0.8814\n",
            "Epoch 36/40\n",
            "15000/15000 [==============================] - 1s 51us/sample - loss: 0.1089 - acc: 0.9697 - val_loss: 0.3096 - val_acc: 0.8823\n",
            "Epoch 37/40\n",
            "15000/15000 [==============================] - 1s 52us/sample - loss: 0.1045 - acc: 0.9717 - val_loss: 0.3125 - val_acc: 0.8818\n",
            "Epoch 38/40\n",
            "15000/15000 [==============================] - 1s 52us/sample - loss: 0.1007 - acc: 0.9733 - val_loss: 0.3164 - val_acc: 0.8819\n",
            "Epoch 39/40\n",
            "15000/15000 [==============================] - 1s 53us/sample - loss: 0.0973 - acc: 0.9747 - val_loss: 0.3206 - val_acc: 0.8802\n",
            "Epoch 40/40\n",
            "15000/15000 [==============================] - 1s 53us/sample - loss: 0.0931 - acc: 0.9763 - val_loss: 0.3232 - val_acc: 0.8797\n"
          ],
          "name": "stdout"
        }
      ]
    },
    {
      "cell_type": "code",
      "metadata": {
        "id": "KRUAV-k0RUz2",
        "colab_type": "code",
        "outputId": "b6552d65-c751-4b16-8a56-6d2847a1c58c",
        "colab": {
          "base_uri": "https://localhost:8080/",
          "height": 52
        }
      },
      "source": [
        "results = model.evaluate(test_data, test_labels)\n",
        "\n",
        "print(results)"
      ],
      "execution_count": 0,
      "outputs": [
        {
          "output_type": "stream",
          "text": [
            "25000/25000 [==============================] - 1s 40us/sample - loss: 0.3459 - acc: 0.8658\n",
            "[0.34592302855968476, 0.86576]\n"
          ],
          "name": "stdout"
        }
      ]
    },
    {
      "cell_type": "code",
      "metadata": {
        "id": "6wKCJJ9HRXdn",
        "colab_type": "code",
        "outputId": "c5055a08-ef37-4137-8ca4-b1aec32a269e",
        "colab": {
          "base_uri": "https://localhost:8080/",
          "height": 35
        }
      },
      "source": [
        "history_dict = history.history\n",
        "history_dict.keys()"
      ],
      "execution_count": 0,
      "outputs": [
        {
          "output_type": "execute_result",
          "data": {
            "text/plain": [
              "dict_keys(['loss', 'acc', 'val_loss', 'val_acc'])"
            ]
          },
          "metadata": {
            "tags": []
          },
          "execution_count": 26
        }
      ]
    },
    {
      "cell_type": "code",
      "metadata": {
        "id": "RoR-a1i9ReRR",
        "colab_type": "code",
        "outputId": "21d4eaa0-aa38-4305-ea4f-b21ba1ca5d67",
        "colab": {
          "base_uri": "https://localhost:8080/",
          "height": 295
        }
      },
      "source": [
        "import matplotlib.pyplot as plt\n",
        "\n",
        "acc = history_dict['acc']\n",
        "val_acc = history_dict['val_acc']\n",
        "loss = history_dict['loss']\n",
        "val_loss = history_dict['val_loss']\n",
        "\n",
        "epochs = range(1, len(acc) + 1)\n",
        "\n",
        "# \"bo\" is for \"blue dot\"\n",
        "plt.plot(epochs, loss, 'bo', label='Training loss')\n",
        "# b is for \"solid blue line\"\n",
        "plt.plot(epochs, val_loss, 'b', label='Validation loss')\n",
        "plt.title('Training and validation loss')\n",
        "plt.xlabel('Epochs')\n",
        "plt.ylabel('Loss')\n",
        "plt.legend()\n",
        "\n",
        "plt.show()"
      ],
      "execution_count": 0,
      "outputs": [
        {
          "output_type": "display_data",
          "data": {
            "image/png": "[encoded data removed]",
            "text/plain": [
              "<Figure size 432x288 with 1 Axes>"
            ]
          },
          "metadata": {
            "tags": []
          }
        }
      ]
    },
    {
      "cell_type": "code",
      "metadata": {
        "id": "c69pNZGjRn5D",
        "colab_type": "code",
        "outputId": "829fd014-b5b9-4351-d9cc-e2559ec79ebb",
        "colab": {
          "base_uri": "https://localhost:8080/",
          "height": 295
        }
      },
      "source": [
        "plt.clf()   # clear figure\n",
        "\n",
        "plt.plot(epochs, acc, 'bo', label='Training acc')\n",
        "plt.plot(epochs, val_acc, 'b', label='Validation acc')\n",
        "plt.title('Training and validation accuracy')\n",
        "plt.xlabel('Epochs')\n",
        "plt.ylabel('Accuracy')\n",
        "plt.legend()\n",
        "\n",
        "plt.show()"
      ],
      "execution_count": 0,
      "outputs": [
        {
          "output_type": "display_data",
          "data": {
            "image/png": "[encoded data removed]",
            "text/plain": [
              "<Figure size 432x288 with 1 Axes>"
            ]
          },
          "metadata": {
            "tags": []
          }
        }
      ]
    },
    {
      "cell_type": "code",
      "metadata": {
        "id": "pz3fp357F2PJ",
        "colab_type": "code",
        "outputId": "2fec47dc-d1d1-446b-cd4f-0e1005dfd851",
        "colab": {
          "base_uri": "https://localhost:8080/",
          "height": 255
        }
      },
      "source": [
        "labels = ['Correct', 'Incorrect']\n",
        "size1 = [.6288, 1-.6288]\n",
        "colors = ['lightblue', 'coral']\n",
        "\n",
        "plt.pie(size1, labels=labels, colors=colors, autopct='%1.1f%%', shadow=True)\n",
        "\n",
        "plt.axis('equal')\n",
        "plt.show()"
      ],
      "execution_count": 0,
      "outputs": [
        {
          "output_type": "display_data",
          "data": {
            "image/png": "[encoded data removed]",
            "text/plain": [
              "<Figure size 432x288 with 1 Axes>"
            ]
          },
          "metadata": {
            "tags": []
          }
        }
      ]
    },
    {
      "cell_type": "code",
      "metadata": {
        "id": "7ytMf05pHAn_",
        "colab_type": "code",
        "outputId": "a7bdd928-5df8-424b-8992-3fc30cf752f0",
        "colab": {
          "base_uri": "https://localhost:8080/",
          "height": 359
        }
      },
      "source": [
        "size2 = [.8797, 1-.8797]\n",
        "plt.pie(size2, labels=labels, colors=colors, autopct='%1.1f%%', shadow=True)"
      ],
      "execution_count": 0,
      "outputs": [
        {
          "output_type": "execute_result",
          "data": {
            "text/plain": [
              "([<matplotlib.patches.Wedge at 0x7f679ba20278>,\n",
              "  <matplotlib.patches.Wedge at 0x7f679b89c828>],\n",
              " [Text(-1.0223720426021006, 0.40590073479313726, 'Correct'),\n",
              "  Text(1.0223720521028927, -0.40590071086279234, 'Incorrect')],\n",
              " [Text(-0.5576574777829639, 0.22140040079625667, '88.0%'),\n",
              "  Text(0.5576574829652142, -0.22140038774334125, '12.0%')])"
            ]
          },
          "metadata": {
            "tags": []
          },
          "execution_count": 40
        },
        {
          "output_type": "display_data",
          "data": {
            "image/png": "[encoded data removed]",
            "text/plain": [
              "<Figure size 432x288 with 1 Axes>"
            ]
          },
          "metadata": {
            "tags": []
          }
        }
      ]
    },
    {
      "cell_type": "code",
      "metadata": {
        "id": "f9KnMwG1H-k4",
        "colab_type": "code",
        "outputId": "4c0bd42f-a059-4573-e97e-865513f4b467",
        "colab": {
          "base_uri": "https://localhost:8080/",
          "height": 89
        }
      },
      "source": [
        "model.save_weights(r'C:/Users/chris/Desktop/Weights.csv')"
      ],
      "execution_count": 0,
      "outputs": [
        {
          "output_type": "stream",
          "text": [
            "WARNING:tensorflow:This model was compiled with a Keras optimizer (<tensorflow.python.keras.optimizers.Adam object at 0x7f67bf50f668>) but is being saved in TensorFlow format with `save_weights`. The model's weights will be saved, but unlike with TensorFlow optimizers in the TensorFlow format the optimizer's state will not be saved.\n",
            "\n",
            "Consider using a TensorFlow optimizer from `tf.train`.\n"
          ],
          "name": "stdout"
        }
      ]
    }
  ]
}